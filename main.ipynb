{
 "cells": [
  {
   "cell_type": "code",
   "execution_count": 21,
   "id": "c6d977a8-a379-4902-a1db-d13877e144f3",
   "metadata": {},
   "outputs": [],
   "source": [
    "import pandas as pd\n",
    "import numpy as np\n",
    "import matplotlib.pyplot as plt\n",
    "\n",
    "from sklearn.model_selection import train_test_split\n",
    "from sklearn.preprocessing import StandardScaler\n",
    "from sklearn.decomposition import PCA\n",
    "from sklearn.cluster import KMeans\n",
    "from sklearn.manifold import TSNE"
   ]
  },
  {
   "cell_type": "code",
   "execution_count": 6,
   "id": "8a38c721-eab2-4add-8016-c023361e0c3e",
   "metadata": {},
   "outputs": [
    {
     "data": {
      "text/html": [
       "<div>\n",
       "<style scoped>\n",
       "    .dataframe tbody tr th:only-of-type {\n",
       "        vertical-align: middle;\n",
       "    }\n",
       "\n",
       "    .dataframe tbody tr th {\n",
       "        vertical-align: top;\n",
       "    }\n",
       "\n",
       "    .dataframe thead th {\n",
       "        text-align: right;\n",
       "    }\n",
       "</style>\n",
       "<table border=\"1\" class=\"dataframe\">\n",
       "  <thead>\n",
       "    <tr style=\"text-align: right;\">\n",
       "      <th></th>\n",
       "      <th>id</th>\n",
       "      <th>group</th>\n",
       "      <th>sex</th>\n",
       "      <th>bodyweight</th>\n",
       "      <th>timepoint</th>\n",
       "      <th>0</th>\n",
       "      <th>15</th>\n",
       "      <th>30</th>\n",
       "      <th>60</th>\n",
       "      <th>90</th>\n",
       "      <th>120</th>\n",
       "    </tr>\n",
       "  </thead>\n",
       "  <tbody>\n",
       "    <tr>\n",
       "      <th>0</th>\n",
       "      <td>F208</td>\n",
       "      <td>WT</td>\n",
       "      <td>F</td>\n",
       "      <td>22.8</td>\n",
       "      <td>0</td>\n",
       "      <td>122</td>\n",
       "      <td>194</td>\n",
       "      <td>196.0</td>\n",
       "      <td>188.0</td>\n",
       "      <td>186.0</td>\n",
       "      <td>189.0</td>\n",
       "    </tr>\n",
       "    <tr>\n",
       "      <th>1</th>\n",
       "      <td>F039</td>\n",
       "      <td>CLOCK</td>\n",
       "      <td>F</td>\n",
       "      <td>26.7</td>\n",
       "      <td>0</td>\n",
       "      <td>188</td>\n",
       "      <td>165</td>\n",
       "      <td>355.0</td>\n",
       "      <td>596.0</td>\n",
       "      <td>218.0</td>\n",
       "      <td>206.0</td>\n",
       "    </tr>\n",
       "    <tr>\n",
       "      <th>2</th>\n",
       "      <td>F014</td>\n",
       "      <td>WT</td>\n",
       "      <td>F</td>\n",
       "      <td>25.1</td>\n",
       "      <td>0</td>\n",
       "      <td>182</td>\n",
       "      <td>289</td>\n",
       "      <td>240.0</td>\n",
       "      <td>219.0</td>\n",
       "      <td>205.0</td>\n",
       "      <td>231.0</td>\n",
       "    </tr>\n",
       "    <tr>\n",
       "      <th>3</th>\n",
       "      <td>F081</td>\n",
       "      <td>CLOCK</td>\n",
       "      <td>F</td>\n",
       "      <td>26.1</td>\n",
       "      <td>0</td>\n",
       "      <td>183</td>\n",
       "      <td>266</td>\n",
       "      <td>206.0</td>\n",
       "      <td>214.0</td>\n",
       "      <td>246.0</td>\n",
       "      <td>168.0</td>\n",
       "    </tr>\n",
       "    <tr>\n",
       "      <th>4</th>\n",
       "      <td>F051</td>\n",
       "      <td>WT</td>\n",
       "      <td>F</td>\n",
       "      <td>29.8</td>\n",
       "      <td>0</td>\n",
       "      <td>141</td>\n",
       "      <td>199</td>\n",
       "      <td>200.0</td>\n",
       "      <td>171.0</td>\n",
       "      <td>181.0</td>\n",
       "      <td>145.0</td>\n",
       "    </tr>\n",
       "  </tbody>\n",
       "</table>\n",
       "</div>"
      ],
      "text/plain": [
       "     id  group sex  bodyweight  timepoint    0   15     30     60     90  \\\n",
       "0  F208     WT   F        22.8          0  122  194  196.0  188.0  186.0   \n",
       "1  F039  CLOCK   F        26.7          0  188  165  355.0  596.0  218.0   \n",
       "2  F014     WT   F        25.1          0  182  289  240.0  219.0  205.0   \n",
       "3  F081  CLOCK   F        26.1          0  183  266  206.0  214.0  246.0   \n",
       "4  F051     WT   F        29.8          0  141  199  200.0  171.0  181.0   \n",
       "\n",
       "     120  \n",
       "0  189.0  \n",
       "1  206.0  \n",
       "2  231.0  \n",
       "3  168.0  \n",
       "4  145.0  "
      ]
     },
     "execution_count": 6,
     "metadata": {},
     "output_type": "execute_result"
    }
   ],
   "source": [
    "df = pd.read_csv('./Resources/gtt_results.csv')\n",
    "df.head()\n"
   ]
  },
  {
   "cell_type": "code",
   "execution_count": 24,
   "id": "bd55ee42-5f02-4845-b768-e59ed3a706ce",
   "metadata": {},
   "outputs": [],
   "source": [
    "df.dropna(axis='rows', inplace=True)"
   ]
  },
  {
   "cell_type": "code",
   "execution_count": 25,
   "id": "05b6d84a-efed-4e2e-aa78-b27683e47107",
   "metadata": {},
   "outputs": [],
   "source": [
    "#Create data frames for each prediction\n",
    "df_group = df[['group', 'bodyweight', 'timepoint', '0', '15', '30', '60', '90', '120']]\n",
    "df_sex = df[['sex', 'bodyweight', 'timepoint', '0', '15', '30', '60', '90', '120']]"
   ]
  },
  {
   "cell_type": "markdown",
   "id": "ce3d7dbb-1f9d-47c9-ba86-32cbb1e41578",
   "metadata": {},
   "source": [
    "## Unsupervised model to identify at clusters"
   ]
  },
  {
   "cell_type": "code",
   "execution_count": 26,
   "id": "7c768388-d882-419a-a4f4-63b6db62bb8e",
   "metadata": {},
   "outputs": [
    {
     "data": {
      "text/plain": [
       "array([[-1.44657587e+00, -1.45839466e+00, -1.12304124e+00, ...,\n",
       "        -4.91653697e-01, -2.99455526e-01, -2.02903271e-03],\n",
       "       [-5.81903774e-01, -1.45839466e+00,  5.60719212e-01, ...,\n",
       "         4.77481906e+00,  1.90052946e-01,  3.11698072e-01],\n",
       "       [-9.36641044e-01, -1.45839466e+00,  4.07650080e-01, ...,\n",
       "        -9.15050317e-02, -8.80987106e-03,  7.73061462e-01],\n",
       "       ...,\n",
       "       [-5.45571063e-03,  1.46758622e+00, -7.70688388e-02, ...,\n",
       "        -7.62722147e-01, -9.87826815e-01,  5.33345741e-02],\n",
       "       [ 2.60597242e-01,  1.46758622e+00, -7.91391455e-01, ...,\n",
       "        -3.62573482e-01, -1.31186989e-01, -1.68119853e-01],\n",
       "       [-4.97978694e-02,  1.46758622e+00,  1.17299574e+00, ...,\n",
       "         3.34459676e-01, -6.99984301e-02, -2.23483460e-01]])"
      ]
     },
     "execution_count": 26,
     "metadata": {},
     "output_type": "execute_result"
    }
   ],
   "source": [
    "scaler = StandardScaler()\n",
    "scaled_data = scaler.fit_transform(df[['bodyweight', 'timepoint', '0', '15', '30', '60', '90', '120']])\n",
    "scaled_data"
   ]
  },
  {
   "cell_type": "code",
   "execution_count": 28,
   "id": "699552ad-9234-40dc-b637-69f3ca8621fb",
   "metadata": {},
   "outputs": [
    {
     "data": {
      "text/html": [
       "<div>\n",
       "<style scoped>\n",
       "    .dataframe tbody tr th:only-of-type {\n",
       "        vertical-align: middle;\n",
       "    }\n",
       "\n",
       "    .dataframe tbody tr th {\n",
       "        vertical-align: top;\n",
       "    }\n",
       "\n",
       "    .dataframe thead th {\n",
       "        text-align: right;\n",
       "    }\n",
       "</style>\n",
       "<table border=\"1\" class=\"dataframe\">\n",
       "  <thead>\n",
       "    <tr style=\"text-align: right;\">\n",
       "      <th></th>\n",
       "      <th>0</th>\n",
       "      <th>1</th>\n",
       "      <th>2</th>\n",
       "      <th>3</th>\n",
       "      <th>4</th>\n",
       "    </tr>\n",
       "  </thead>\n",
       "  <tbody>\n",
       "    <tr>\n",
       "      <th>0</th>\n",
       "      <td>-1.424693</td>\n",
       "      <td>1.078793</td>\n",
       "      <td>-1.815320</td>\n",
       "      <td>0.666332</td>\n",
       "      <td>-0.871765</td>\n",
       "    </tr>\n",
       "    <tr>\n",
       "      <th>1</th>\n",
       "      <td>2.484678</td>\n",
       "      <td>1.403529</td>\n",
       "      <td>-0.808650</td>\n",
       "      <td>0.939940</td>\n",
       "      <td>-1.699220</td>\n",
       "    </tr>\n",
       "    <tr>\n",
       "      <th>2</th>\n",
       "      <td>0.378834</td>\n",
       "      <td>1.317219</td>\n",
       "      <td>-1.178750</td>\n",
       "      <td>-0.403195</td>\n",
       "      <td>-0.101924</td>\n",
       "    </tr>\n",
       "    <tr>\n",
       "      <th>3</th>\n",
       "      <td>-0.060820</td>\n",
       "      <td>1.392783</td>\n",
       "      <td>-0.976927</td>\n",
       "      <td>-0.134919</td>\n",
       "      <td>0.317033</td>\n",
       "    </tr>\n",
       "    <tr>\n",
       "      <th>4</th>\n",
       "      <td>-1.259134</td>\n",
       "      <td>0.839754</td>\n",
       "      <td>-0.993108</td>\n",
       "      <td>1.355011</td>\n",
       "      <td>0.547998</td>\n",
       "    </tr>\n",
       "  </tbody>\n",
       "</table>\n",
       "</div>"
      ],
      "text/plain": [
       "          0         1         2         3         4\n",
       "0 -1.424693  1.078793 -1.815320  0.666332 -0.871765\n",
       "1  2.484678  1.403529 -0.808650  0.939940 -1.699220\n",
       "2  0.378834  1.317219 -1.178750 -0.403195 -0.101924\n",
       "3 -0.060820  1.392783 -0.976927 -0.134919  0.317033\n",
       "4 -1.259134  0.839754 -0.993108  1.355011  0.547998"
      ]
     },
     "execution_count": 28,
     "metadata": {},
     "output_type": "execute_result"
    }
   ],
   "source": [
    "# Initialize PCA model\n",
    "pca = PCA(n_components=0.90)\n",
    "\n",
    "# Get two principal components for the iris data.\n",
    "pca = pca.fit_transform(scaled_data)\n",
    "\n",
    "#Convert to pd dataframe\n",
    "pca = pd.DataFrame(pca)\n",
    "pca.head()"
   ]
  },
  {
   "cell_type": "code",
   "execution_count": 43,
   "id": "be9fb7bc-a174-4623-835b-69043369356e",
   "metadata": {},
   "outputs": [
    {
     "name": "stdout",
     "output_type": "stream",
     "text": [
      "(191, 2)\n",
      "(191, 2)\n"
     ]
    }
   ],
   "source": [
    "#t-SNE analysis\n",
    "tsne = TSNE(learning_rate='auto', perplexity=1)\n",
    "\n",
    "tsne_features_pca = tsne.fit_transform(pca)\n",
    "tsne_features_raw = tsne.fit_transform(scaled_data)\n",
    "\n",
    "print(tsne_features_pca.shape)\n",
    "print(tsne_features_raw.shape)"
   ]
  },
  {
   "cell_type": "code",
   "execution_count": 44,
   "id": "bf3c313a-198f-4273-9951-928f6ab1d9ed",
   "metadata": {},
   "outputs": [
    {
     "data": {
      "image/png": "[encoded data removed]",
      "text/plain": [
       "<Figure size 640x480 with 1 Axes>"
      ]
     },
     "metadata": {},
     "output_type": "display_data"
    }
   ],
   "source": [
    "plt.scatter(tsne_features_raw[:,0], tsne_features_raw[:,1], c='red')\n",
    "plt.scatter(tsne_features_pca[:,0], tsne_features_pca[:,1], c='blue')\n",
    "plt.legend(['Raw Data', 'PCA'])\n",
    "plt.show()"
   ]
  },
  {
   "cell_type": "markdown",
   "id": "d68f1882-df49-4c1c-8d93-d407c2ee7ad7",
   "metadata": {},
   "source": [
    "## Classifying group"
   ]
  },
  {
   "cell_type": "code",
   "execution_count": 13,
   "id": "c1eb4294-f6e0-42ae-b065-c55bb8613e65",
   "metadata": {},
   "outputs": [],
   "source": [
    "#Assign features\n",
    "X_g = df_group[['bodyweight', 'timepoint', '0', '15', '30', '60', '90', '120']]\n",
    "y_g = df.group\n",
    "\n",
    "# Split the data into X_train, X_test, y_train, y_test\n",
    "X_g_train, X_g_test, y_g_train, y_g_test = train_test_split(X_g, y_g, random_state=1)"
   ]
  },
  {
   "cell_type": "code",
   "execution_count": null,
   "id": "8b20e70e-65aa-42aa-9385-46caa2dba2d7",
   "metadata": {},
   "outputs": [],
   "source": []
  }
 ],
 "metadata": {
  "kernelspec": {
   "display_name": "Python 3 (ipykernel)",
   "language": "python",
   "name": "python3"
  },
  "language_info": {
   "codemirror_mode": {
    "name": "ipython",
    "version": 3
   },
   "file_extension": ".py",
   "mimetype": "text/x-python",
   "name": "python",
   "nbconvert_exporter": "python",
   "pygments_lexer": "ipython3",
   "version": "3.10.1"
  }
 },
 "nbformat": 4,
 "nbformat_minor": 5
}
