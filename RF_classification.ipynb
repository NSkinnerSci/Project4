{
 "cells": [
  {
   "cell_type": "code",
   "execution_count": 1,
   "id": "298b9c36-749e-4122-93c0-bdf89f54b374",
   "metadata": {},
   "outputs": [],
   "source": [
    "import pandas as pd\n",
    "import numpy as np\n",
    "import matplotlib.pyplot as plt\n",
    "from IPython.display import clear_output\n",
    "\n",
    "from sklearn.model_selection import train_test_split\n",
    "from sklearn.metrics import auc, accuracy_score, confusion_matrix, mean_squared_error, mean_absolute_error\n",
    "from sklearn.ensemble import RandomForestClassifier\n",
    "from sklearn.preprocessing import StandardScaler\n"
   ]
  },
  {
   "cell_type": "code",
   "execution_count": 2,
   "id": "6643fe90-0230-4b8d-aa75-756e43847801",
   "metadata": {},
   "outputs": [
    {
     "data": {
      "text/html": [
       "<div>\n",
       "<style scoped>\n",
       "    .dataframe tbody tr th:only-of-type {\n",
       "        vertical-align: middle;\n",
       "    }\n",
       "\n",
       "    .dataframe tbody tr th {\n",
       "        vertical-align: top;\n",
       "    }\n",
       "\n",
       "    .dataframe thead th {\n",
       "        text-align: right;\n",
       "    }\n",
       "</style>\n",
       "<table border=\"1\" class=\"dataframe\">\n",
       "  <thead>\n",
       "    <tr style=\"text-align: right;\">\n",
       "      <th></th>\n",
       "      <th>id</th>\n",
       "      <th>group</th>\n",
       "      <th>sex</th>\n",
       "      <th>bodyweight</th>\n",
       "      <th>timepoint</th>\n",
       "      <th>t0</th>\n",
       "      <th>t15</th>\n",
       "      <th>t30</th>\n",
       "      <th>t60</th>\n",
       "      <th>t90</th>\n",
       "      <th>t120</th>\n",
       "    </tr>\n",
       "  </thead>\n",
       "  <tbody>\n",
       "    <tr>\n",
       "      <th>0</th>\n",
       "      <td>F208</td>\n",
       "      <td>WT</td>\n",
       "      <td>F</td>\n",
       "      <td>22.8</td>\n",
       "      <td>0</td>\n",
       "      <td>122</td>\n",
       "      <td>194</td>\n",
       "      <td>196.0</td>\n",
       "      <td>188.0</td>\n",
       "      <td>186.0</td>\n",
       "      <td>189.0</td>\n",
       "    </tr>\n",
       "    <tr>\n",
       "      <th>1</th>\n",
       "      <td>F039</td>\n",
       "      <td>CLOCK</td>\n",
       "      <td>F</td>\n",
       "      <td>26.7</td>\n",
       "      <td>0</td>\n",
       "      <td>188</td>\n",
       "      <td>165</td>\n",
       "      <td>355.0</td>\n",
       "      <td>596.0</td>\n",
       "      <td>218.0</td>\n",
       "      <td>206.0</td>\n",
       "    </tr>\n",
       "    <tr>\n",
       "      <th>2</th>\n",
       "      <td>F014</td>\n",
       "      <td>WT</td>\n",
       "      <td>F</td>\n",
       "      <td>25.1</td>\n",
       "      <td>0</td>\n",
       "      <td>182</td>\n",
       "      <td>289</td>\n",
       "      <td>240.0</td>\n",
       "      <td>219.0</td>\n",
       "      <td>205.0</td>\n",
       "      <td>231.0</td>\n",
       "    </tr>\n",
       "    <tr>\n",
       "      <th>3</th>\n",
       "      <td>F081</td>\n",
       "      <td>CLOCK</td>\n",
       "      <td>F</td>\n",
       "      <td>26.1</td>\n",
       "      <td>0</td>\n",
       "      <td>183</td>\n",
       "      <td>266</td>\n",
       "      <td>206.0</td>\n",
       "      <td>214.0</td>\n",
       "      <td>246.0</td>\n",
       "      <td>168.0</td>\n",
       "    </tr>\n",
       "    <tr>\n",
       "      <th>4</th>\n",
       "      <td>F051</td>\n",
       "      <td>WT</td>\n",
       "      <td>F</td>\n",
       "      <td>29.8</td>\n",
       "      <td>0</td>\n",
       "      <td>141</td>\n",
       "      <td>199</td>\n",
       "      <td>200.0</td>\n",
       "      <td>171.0</td>\n",
       "      <td>181.0</td>\n",
       "      <td>145.0</td>\n",
       "    </tr>\n",
       "  </tbody>\n",
       "</table>\n",
       "</div>"
      ],
      "text/plain": [
       "     id  group sex  bodyweight  timepoint   t0  t15    t30    t60    t90  \\\n",
       "0  F208     WT   F        22.8          0  122  194  196.0  188.0  186.0   \n",
       "1  F039  CLOCK   F        26.7          0  188  165  355.0  596.0  218.0   \n",
       "2  F014     WT   F        25.1          0  182  289  240.0  219.0  205.0   \n",
       "3  F081  CLOCK   F        26.1          0  183  266  206.0  214.0  246.0   \n",
       "4  F051     WT   F        29.8          0  141  199  200.0  171.0  181.0   \n",
       "\n",
       "    t120  \n",
       "0  189.0  \n",
       "1  206.0  \n",
       "2  231.0  \n",
       "3  168.0  \n",
       "4  145.0  "
      ]
     },
     "execution_count": 2,
     "metadata": {},
     "output_type": "execute_result"
    }
   ],
   "source": [
    "df = pd.read_csv('./Resources/gtt_results.csv')\n",
    "df.dropna(axis='rows', inplace=True)\n",
    "df.head()\n"
   ]
  },
  {
   "cell_type": "code",
   "execution_count": 3,
   "id": "535ae861-26c9-4286-b501-7da5e1f6ea5f",
   "metadata": {},
   "outputs": [],
   "source": [
    "df_sex = df[['sex', 'bodyweight', 'timepoint', 't0', 't15', 't30', 't60', 't90', 't120']]"
   ]
  },
  {
   "cell_type": "code",
   "execution_count": 4,
   "id": "288b72e5-7ef2-4eea-a12c-07edc6ac70cc",
   "metadata": {},
   "outputs": [],
   "source": [
    "#Assign features\n",
    "X = df[['bodyweight', 'timepoint', 't0', 't15', 't30', 't60', 't90', 't120']]\n",
    "y = df.sex\n",
    "y = pd.Series(np.where(y.values == 'F', 1, 0),\n",
    "          y.index)\n",
    "\n",
    "# Split the data into X_train, X_test, y_train, y_test\n",
    "X_train, X_test, y_train, y_test = train_test_split(X, y, random_state=1)"
   ]
  },
  {
   "cell_type": "code",
   "execution_count": 5,
   "id": "c624a2d7-6fe4-4ca3-93bb-f691fa12ae79",
   "metadata": {},
   "outputs": [],
   "source": [
    "scaler = StandardScaler().fit(X_train)\n",
    "X_train_scaled = scaler.transform(X_train)\n",
    "X_test_scaled = scaler.transform(X_test)\n"
   ]
  },
  {
   "cell_type": "code",
   "execution_count": 6,
   "id": "67934a6f-d379-4932-ae6c-35053610400f",
   "metadata": {},
   "outputs": [
    {
     "name": "stdout",
     "output_type": "stream",
     "text": [
      "Training Score: 0.972027972027972\n",
      "Testing Score: 0.9583333333333334\n"
     ]
    }
   ],
   "source": [
    "#without scaling\n",
    "model = RandomForestClassifier(max_depth=5, n_estimators=100, max_features=1).fit(X_train, y_train)\n",
    "\n",
    "print(f'Training Score: {model.score(X_train, y_train)}')\n",
    "print(f'Testing Score: {model.score(X_test, y_test)}')"
   ]
  },
  {
   "cell_type": "code",
   "execution_count": 7,
   "id": "46c23f7e",
   "metadata": {},
   "outputs": [
    {
     "name": "stdout",
     "output_type": "stream",
     "text": [
      "Accuracy: 0.9583333333333334\n",
      "Confusion Matrix: [[22  1]\n",
      " [ 1 24]]\n"
     ]
    }
   ],
   "source": [
    "pred = model.predict(X_test)\n",
    "print(f'Accuracy: {accuracy_score(pred, y_test)}')\n",
    "print(f'Confusion Matrix: {confusion_matrix(pred, y_test)}')\n"
   ]
  },
  {
   "cell_type": "code",
   "execution_count": 8,
   "id": "c6a3670a-9563-48c1-b2fc-d47d05d3f933",
   "metadata": {},
   "outputs": [
    {
     "data": {
      "image/png": "[encoded data removed]",
      "text/plain": [
       "<Figure size 640x480 with 1 Axes>"
      ]
     },
     "metadata": {},
     "output_type": "display_data"
    }
   ],
   "source": [
    "features = model.feature_importances_\n",
    "plt.bar(x = model.feature_names_in_, height=features)\n",
    "plt.xticks(rotation = 90)\n",
    "plt.show()\n"
   ]
  },
  {
   "cell_type": "code",
   "execution_count": 9,
   "id": "698ad0a2-fdf6-4f2a-9ed3-c71e8fee89c5",
   "metadata": {},
   "outputs": [
    {
     "name": "stdout",
     "output_type": "stream",
     "text": [
      "Training Score: 0.972027972027972\n",
      "Testing Score: 0.9375\n"
     ]
    }
   ],
   "source": [
    "#with scaling\n",
    "model_scaled = RandomForestClassifier(max_depth=5, n_estimators=100, max_features=1).fit(X_train_scaled, y_train)\n",
    "\n",
    "print(f'Training Score: {model_scaled.score(X_train_scaled, y_train)}')\n",
    "print(f'Testing Score: {model_scaled.score(X_test_scaled, y_test)}')"
   ]
  },
  {
   "cell_type": "code",
   "execution_count": 10,
   "id": "c79510f3-8f9a-4b7a-b921-d2e92205f648",
   "metadata": {},
   "outputs": [
    {
     "data": {
      "image/png": "[encoded data removed]",
      "text/plain": [
       "<Figure size 640x480 with 1 Axes>"
      ]
     },
     "metadata": {},
     "output_type": "display_data"
    }
   ],
   "source": [
    "features_scaled = model_scaled.feature_importances_\n",
    "plt.bar(x = np.arange(1,len(features_scaled)+1, 1), height=features_scaled)\n",
    "plt.xticks(rotation = 0)\n",
    "plt.show()\n"
   ]
  },
  {
   "cell_type": "markdown",
   "id": "dcefe76d-cde9-4820-b007-8e73bee06afd",
   "metadata": {},
   "source": [
    "## Pull in random results from old experiment\n"
   ]
  },
  {
   "cell_type": "code",
   "execution_count": 11,
   "id": "3da1b52a-9808-40b9-9796-15041d79b30d",
   "metadata": {},
   "outputs": [
    {
     "data": {
      "text/html": [
       "<div>\n",
       "<style scoped>\n",
       "    .dataframe tbody tr th:only-of-type {\n",
       "        vertical-align: middle;\n",
       "    }\n",
       "\n",
       "    .dataframe tbody tr th {\n",
       "        vertical-align: top;\n",
       "    }\n",
       "\n",
       "    .dataframe thead th {\n",
       "        text-align: right;\n",
       "    }\n",
       "</style>\n",
       "<table border=\"1\" class=\"dataframe\">\n",
       "  <thead>\n",
       "    <tr style=\"text-align: right;\">\n",
       "      <th></th>\n",
       "      <th>bodyweight</th>\n",
       "      <th>timepoint</th>\n",
       "      <th>t0</th>\n",
       "      <th>t15</th>\n",
       "      <th>t30</th>\n",
       "      <th>t60</th>\n",
       "      <th>t90</th>\n",
       "      <th>t120</th>\n",
       "      <th>sex</th>\n",
       "    </tr>\n",
       "  </thead>\n",
       "  <tbody>\n",
       "    <tr>\n",
       "      <th>0</th>\n",
       "      <td>37.1</td>\n",
       "      <td>4</td>\n",
       "      <td>117</td>\n",
       "      <td>469</td>\n",
       "      <td>516</td>\n",
       "      <td>254</td>\n",
       "      <td>198</td>\n",
       "      <td>178</td>\n",
       "      <td>M</td>\n",
       "    </tr>\n",
       "    <tr>\n",
       "      <th>1</th>\n",
       "      <td>29.3</td>\n",
       "      <td>4</td>\n",
       "      <td>95</td>\n",
       "      <td>396</td>\n",
       "      <td>333</td>\n",
       "      <td>232</td>\n",
       "      <td>189</td>\n",
       "      <td>165</td>\n",
       "      <td>M</td>\n",
       "    </tr>\n",
       "    <tr>\n",
       "      <th>2</th>\n",
       "      <td>35.8</td>\n",
       "      <td>4</td>\n",
       "      <td>115</td>\n",
       "      <td>371</td>\n",
       "      <td>487</td>\n",
       "      <td>326</td>\n",
       "      <td>267</td>\n",
       "      <td>209</td>\n",
       "      <td>M</td>\n",
       "    </tr>\n",
       "    <tr>\n",
       "      <th>3</th>\n",
       "      <td>25.7</td>\n",
       "      <td>4</td>\n",
       "      <td>80</td>\n",
       "      <td>223</td>\n",
       "      <td>232</td>\n",
       "      <td>180</td>\n",
       "      <td>201</td>\n",
       "      <td>164</td>\n",
       "      <td>M</td>\n",
       "    </tr>\n",
       "    <tr>\n",
       "      <th>4</th>\n",
       "      <td>41.2</td>\n",
       "      <td>4</td>\n",
       "      <td>124</td>\n",
       "      <td>391</td>\n",
       "      <td>432</td>\n",
       "      <td>298</td>\n",
       "      <td>231</td>\n",
       "      <td>188</td>\n",
       "      <td>M</td>\n",
       "    </tr>\n",
       "  </tbody>\n",
       "</table>\n",
       "</div>"
      ],
      "text/plain": [
       "   bodyweight  timepoint   t0  t15  t30  t60  t90  t120 sex\n",
       "0        37.1          4  117  469  516  254  198   178   M\n",
       "1        29.3          4   95  396  333  232  189   165   M\n",
       "2        35.8          4  115  371  487  326  267   209   M\n",
       "3        25.7          4   80  223  232  180  201   164   M\n",
       "4        41.2          4  124  391  432  298  231   188   M"
      ]
     },
     "execution_count": 11,
     "metadata": {},
     "output_type": "execute_result"
    }
   ],
   "source": [
    "df_rand = pd.read_csv('./Resources/random_results.csv')\n",
    "df_rand.head()"
   ]
  },
  {
   "cell_type": "code",
   "execution_count": 12,
   "id": "fcdf8088-12ca-4836-a82c-237da2adca12",
   "metadata": {},
   "outputs": [],
   "source": [
    "X_rand = df_rand.drop('sex', axis = 1)\n",
    "y_rand = df_rand.sex\n",
    "y_rand = pd.Series(np.where(y_rand.values == 'F', 1, 0),\n",
    "          y_rand.index)"
   ]
  },
  {
   "cell_type": "code",
   "execution_count": 13,
   "id": "96d54542-92bb-4d15-87d1-b55c8464c5e6",
   "metadata": {},
   "outputs": [],
   "source": [
    "y_rand_pred = model.predict(X_rand)"
   ]
  },
  {
   "cell_type": "code",
   "execution_count": 14,
   "id": "82e5de17-9b65-4546-8a1b-f080192e8799",
   "metadata": {},
   "outputs": [
    {
     "name": "stdout",
     "output_type": "stream",
     "text": [
      "Prediction Score: 0.7419354838709677\n",
      "Mean Squared Error: 0.25806451612903225\n"
     ]
    }
   ],
   "source": [
    "print(f'Prediction Score: {model.score(X_rand, y_rand)}')\n",
    "print(f'Mean Squared Error: {mean_squared_error(y_rand, y_rand_pred)}')\n"
   ]
  },
  {
   "cell_type": "code",
   "execution_count": 15,
   "id": "f2ab306e-5b4f-4ae0-b107-9d6a3b4ca464",
   "metadata": {},
   "outputs": [
    {
     "data": {
      "text/plain": [
       "array([[23,  8],\n",
       "       [ 0,  0]])"
      ]
     },
     "execution_count": 15,
     "metadata": {},
     "output_type": "execute_result"
    }
   ],
   "source": [
    "confusion_matrix(y_rand, y_rand_pred)"
   ]
  },
  {
   "cell_type": "code",
   "execution_count": 16,
   "id": "b74a205d",
   "metadata": {},
   "outputs": [
    {
     "data": {
      "text/plain": [
       "0.7419354838709677"
      ]
     },
     "execution_count": 16,
     "metadata": {},
     "output_type": "execute_result"
    }
   ],
   "source": [
    "accuracy_score(y_rand, y_rand_pred)"
   ]
  },
  {
   "cell_type": "code",
   "execution_count": null,
   "id": "6dc15dc3",
   "metadata": {},
   "outputs": [],
   "source": []
  }
 ],
 "metadata": {
  "kernelspec": {
   "display_name": "Python 3 (ipykernel)",
   "language": "python",
   "name": "python3"
  },
  "language_info": {
   "codemirror_mode": {
    "name": "ipython",
    "version": 3
   },
   "file_extension": ".py",
   "mimetype": "text/x-python",
   "name": "python",
   "nbconvert_exporter": "python",
   "pygments_lexer": "ipython3",
   "version": "3.10.1"
  }
 },
 "nbformat": 4,
 "nbformat_minor": 5
}
