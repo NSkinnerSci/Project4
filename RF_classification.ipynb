{
 "cells": [
  {
   "cell_type": "code",
   "execution_count": 1,
   "id": "298b9c36-749e-4122-93c0-bdf89f54b374",
   "metadata": {},
   "outputs": [],
   "source": [
    "import pandas as pd\n",
    "import numpy as np\n",
    "import matplotlib.pyplot as plt\n",
    "from IPython.display import clear_output\n",
    "\n",
    "from sklearn.model_selection import train_test_split\n",
    "from sklearn.metrics import auc, accuracy_score, confusion_matrix, mean_squared_error, mean_absolute_error\n",
    "from sklearn.ensemble import RandomForestClassifier\n"
   ]
  },
  {
   "cell_type": "code",
   "execution_count": 3,
   "id": "6643fe90-0230-4b8d-aa75-756e43847801",
   "metadata": {},
   "outputs": [
    {
     "data": {
      "text/html": [
       "<div>\n",
       "<style scoped>\n",
       "    .dataframe tbody tr th:only-of-type {\n",
       "        vertical-align: middle;\n",
       "    }\n",
       "\n",
       "    .dataframe tbody tr th {\n",
       "        vertical-align: top;\n",
       "    }\n",
       "\n",
       "    .dataframe thead th {\n",
       "        text-align: right;\n",
       "    }\n",
       "</style>\n",
       "<table border=\"1\" class=\"dataframe\">\n",
       "  <thead>\n",
       "    <tr style=\"text-align: right;\">\n",
       "      <th></th>\n",
       "      <th>id</th>\n",
       "      <th>group</th>\n",
       "      <th>sex</th>\n",
       "      <th>bodyweight</th>\n",
       "      <th>timepoint</th>\n",
       "      <th>0</th>\n",
       "      <th>15</th>\n",
       "      <th>30</th>\n",
       "      <th>60</th>\n",
       "      <th>90</th>\n",
       "      <th>120</th>\n",
       "    </tr>\n",
       "  </thead>\n",
       "  <tbody>\n",
       "    <tr>\n",
       "      <th>0</th>\n",
       "      <td>F208</td>\n",
       "      <td>WT</td>\n",
       "      <td>F</td>\n",
       "      <td>22.8</td>\n",
       "      <td>0</td>\n",
       "      <td>122</td>\n",
       "      <td>194</td>\n",
       "      <td>196.0</td>\n",
       "      <td>188.0</td>\n",
       "      <td>186.0</td>\n",
       "      <td>189.0</td>\n",
       "    </tr>\n",
       "    <tr>\n",
       "      <th>1</th>\n",
       "      <td>F039</td>\n",
       "      <td>CLOCK</td>\n",
       "      <td>F</td>\n",
       "      <td>26.7</td>\n",
       "      <td>0</td>\n",
       "      <td>188</td>\n",
       "      <td>165</td>\n",
       "      <td>355.0</td>\n",
       "      <td>596.0</td>\n",
       "      <td>218.0</td>\n",
       "      <td>206.0</td>\n",
       "    </tr>\n",
       "    <tr>\n",
       "      <th>2</th>\n",
       "      <td>F014</td>\n",
       "      <td>WT</td>\n",
       "      <td>F</td>\n",
       "      <td>25.1</td>\n",
       "      <td>0</td>\n",
       "      <td>182</td>\n",
       "      <td>289</td>\n",
       "      <td>240.0</td>\n",
       "      <td>219.0</td>\n",
       "      <td>205.0</td>\n",
       "      <td>231.0</td>\n",
       "    </tr>\n",
       "    <tr>\n",
       "      <th>3</th>\n",
       "      <td>F081</td>\n",
       "      <td>CLOCK</td>\n",
       "      <td>F</td>\n",
       "      <td>26.1</td>\n",
       "      <td>0</td>\n",
       "      <td>183</td>\n",
       "      <td>266</td>\n",
       "      <td>206.0</td>\n",
       "      <td>214.0</td>\n",
       "      <td>246.0</td>\n",
       "      <td>168.0</td>\n",
       "    </tr>\n",
       "    <tr>\n",
       "      <th>4</th>\n",
       "      <td>F051</td>\n",
       "      <td>WT</td>\n",
       "      <td>F</td>\n",
       "      <td>29.8</td>\n",
       "      <td>0</td>\n",
       "      <td>141</td>\n",
       "      <td>199</td>\n",
       "      <td>200.0</td>\n",
       "      <td>171.0</td>\n",
       "      <td>181.0</td>\n",
       "      <td>145.0</td>\n",
       "    </tr>\n",
       "  </tbody>\n",
       "</table>\n",
       "</div>"
      ],
      "text/plain": [
       "     id  group sex  bodyweight  timepoint    0   15     30     60     90  \\\n",
       "0  F208     WT   F        22.8          0  122  194  196.0  188.0  186.0   \n",
       "1  F039  CLOCK   F        26.7          0  188  165  355.0  596.0  218.0   \n",
       "2  F014     WT   F        25.1          0  182  289  240.0  219.0  205.0   \n",
       "3  F081  CLOCK   F        26.1          0  183  266  206.0  214.0  246.0   \n",
       "4  F051     WT   F        29.8          0  141  199  200.0  171.0  181.0   \n",
       "\n",
       "     120  \n",
       "0  189.0  \n",
       "1  206.0  \n",
       "2  231.0  \n",
       "3  168.0  \n",
       "4  145.0  "
      ]
     },
     "execution_count": 3,
     "metadata": {},
     "output_type": "execute_result"
    }
   ],
   "source": [
    "df = pd.read_csv('./Resources/gtt_results.csv')\n",
    "df.dropna(axis='rows', inplace=True)\n",
    "df.head()\n"
   ]
  },
  {
   "cell_type": "code",
   "execution_count": 4,
   "id": "535ae861-26c9-4286-b501-7da5e1f6ea5f",
   "metadata": {},
   "outputs": [],
   "source": [
    "df_sex = df[['sex', 'bodyweight', 'timepoint', '0', '15', '30', '60', '90', '120']]"
   ]
  },
  {
   "cell_type": "code",
   "execution_count": 5,
   "id": "288b72e5-7ef2-4eea-a12c-07edc6ac70cc",
   "metadata": {},
   "outputs": [
    {
     "ename": "NameError",
     "evalue": "name 'df_group' is not defined",
     "output_type": "error",
     "traceback": [
      "\u001b[0;31m---------------------------------------------------------------------------\u001b[0m",
      "\u001b[0;31mNameError\u001b[0m                                 Traceback (most recent call last)",
      "Cell \u001b[0;32mIn[5], line 2\u001b[0m\n\u001b[1;32m      1\u001b[0m \u001b[38;5;66;03m#Assign features\u001b[39;00m\n\u001b[0;32m----> 2\u001b[0m X \u001b[38;5;241m=\u001b[39m \u001b[43mdf_group\u001b[49m[[\u001b[38;5;124m'\u001b[39m\u001b[38;5;124mbodyweight\u001b[39m\u001b[38;5;124m'\u001b[39m, \u001b[38;5;124m'\u001b[39m\u001b[38;5;124mtimepoint\u001b[39m\u001b[38;5;124m'\u001b[39m, \u001b[38;5;124m'\u001b[39m\u001b[38;5;124m0\u001b[39m\u001b[38;5;124m'\u001b[39m, \u001b[38;5;124m'\u001b[39m\u001b[38;5;124m15\u001b[39m\u001b[38;5;124m'\u001b[39m, \u001b[38;5;124m'\u001b[39m\u001b[38;5;124m30\u001b[39m\u001b[38;5;124m'\u001b[39m, \u001b[38;5;124m'\u001b[39m\u001b[38;5;124m60\u001b[39m\u001b[38;5;124m'\u001b[39m, \u001b[38;5;124m'\u001b[39m\u001b[38;5;124m90\u001b[39m\u001b[38;5;124m'\u001b[39m, \u001b[38;5;124m'\u001b[39m\u001b[38;5;124m120\u001b[39m\u001b[38;5;124m'\u001b[39m]]\n\u001b[1;32m      3\u001b[0m y \u001b[38;5;241m=\u001b[39m df\u001b[38;5;241m.\u001b[39msex\n\u001b[1;32m      4\u001b[0m y \u001b[38;5;241m=\u001b[39m pd\u001b[38;5;241m.\u001b[39mSeries(np\u001b[38;5;241m.\u001b[39mwhere(y\u001b[38;5;241m.\u001b[39mvalues \u001b[38;5;241m==\u001b[39m \u001b[38;5;124m'\u001b[39m\u001b[38;5;124mF\u001b[39m\u001b[38;5;124m'\u001b[39m, \u001b[38;5;241m1\u001b[39m, \u001b[38;5;241m0\u001b[39m),\n\u001b[1;32m      5\u001b[0m           y\u001b[38;5;241m.\u001b[39mindex)\n",
      "\u001b[0;31mNameError\u001b[0m: name 'df_group' is not defined"
     ]
    }
   ],
   "source": [
    "#Assign features\n",
    "X = df[['bodyweight', 'timepoint', '0', '15', '30', '60', '90', '120']]\n",
    "y = df.sex\n",
    "y = pd.Series(np.where(y.values == 'F', 1, 0),\n",
    "          y.index)\n",
    "\n",
    "# Split the data into X_train, X_test, y_train, y_test\n",
    "X_train, X_test, y_train, y_test = train_test_split(X, y, random_state=1)"
   ]
  },
  {
   "cell_type": "code",
   "execution_count": null,
   "id": "67934a6f-d379-4932-ae6c-35053610400f",
   "metadata": {},
   "outputs": [],
   "source": []
  }
 ],
 "metadata": {
  "kernelspec": {
   "display_name": "Python 3 (ipykernel)",
   "language": "python",
   "name": "python3"
  },
  "language_info": {
   "codemirror_mode": {
    "name": "ipython",
    "version": 3
   },
   "file_extension": ".py",
   "mimetype": "text/x-python",
   "name": "python",
   "nbconvert_exporter": "python",
   "pygments_lexer": "ipython3",
   "version": "3.10.1"
  }
 },
 "nbformat": 4,
 "nbformat_minor": 5
}
